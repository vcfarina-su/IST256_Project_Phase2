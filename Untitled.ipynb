{
 "cells": [
  {
   "cell_type": "code",
   "execution_count": 14,
   "metadata": {},
   "outputs": [
    {
     "name": "stdout",
     "output_type": "stream",
     "text": [
      "Chemicals:  Sodium nitrate: Added to processed meats to stop bacterial growth. Linked to cancer in humans. (Worst Offender) Sulfites: Used to keep prepared foods fresh. Can cause breathing difficulties in those sensitive to the ingredient. Azodicarbonamide: Used in bagels and buns. Can cause asthma. Potassium bromate: Added to breads to increase volume. Linked to cancer in humans. Propyl gallate: Added to fat-containing products. Linked to cancer in humans\n",
      "[<built-in method split of str object at 0x1044bdbc8>]\n"
     ]
    }
   ],
   "source": [
    "def Slice(text):\n",
    "    newText = []\n",
    "    for word in text:\n",
    "        if word != word.isalpha():\n",
    "            splitted = word.split\n",
    "    newText.append(splitted)\n",
    "    return newText\n",
    "\n",
    "text = input('Chemicals: ')\n",
    "\n",
    "getChems = Slice(text)\n",
    "\n",
    "print(getChems)\n",
    "            "
   ]
  },
  {
   "cell_type": "code",
   "execution_count": null,
   "metadata": {},
   "outputs": [],
   "source": []
  }
 ],
 "metadata": {
  "kernelspec": {
   "display_name": "Python 3",
   "language": "python",
   "name": "python3"
  },
  "language_info": {
   "codemirror_mode": {
    "name": "ipython",
    "version": 3
   },
   "file_extension": ".py",
   "mimetype": "text/x-python",
   "name": "python",
   "nbconvert_exporter": "python",
   "pygments_lexer": "ipython3",
   "version": "3.6.6"
  }
 },
 "nbformat": 4,
 "nbformat_minor": 2
}
